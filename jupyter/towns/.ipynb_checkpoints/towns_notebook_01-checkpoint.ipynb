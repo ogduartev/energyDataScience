{
 "cells": [
  {
   "cell_type": "code",
   "execution_count": 1,
   "metadata": {},
   "outputs": [],
   "source": [
    "import pandas as pd\n",
    "pd.options.mode.chained_assignment = None  # default='warn'\n",
    "import matplotlib.pyplot as plt\n",
    "\n",
    "\n",
    "target_url1=\"https://raw.githubusercontent.com/ogduartev/energyDataScience/main/data/towns/sample01.csv\"\n",
    "df1 = pd.read_csv(target_url1)\n",
    "target_url2=\"https://raw.githubusercontent.com/ogduartev/energyDataScience/main/data/towns/sample02.csv\"\n",
    "df2 = pd.read_csv(target_url2)"
   ]
  },
  {
   "cell_type": "code",
   "execution_count": 2,
   "metadata": {},
   "outputs": [
    {
     "name": "stdout",
     "output_type": "stream",
     "text": [
      "   DPTO_CCDGO  MPIO_CDPMP DPTO_CNMBR  MPIO_CNMBR  IMPORTANCIA         VALOR  \\\n",
      "0           5        5001  Antioquia    Medellín            1  54530.676210   \n",
      "1           5        5002  Antioquia   Abejorral            5    207.327284   \n",
      "2           5        5004  Antioquia    Abriaquí            7     21.582463   \n",
      "3           5        5021  Antioquia  Alejandría            6    100.796517   \n",
      "4           5        5030  Antioquia       Amagá            4    410.099686   \n",
      "\n",
      "   PESO_MPAL  CONSUMOS_CANTIDAD  \n",
      "0  45.505823                  0  \n",
      "1   0.173015                  0  \n",
      "2   0.018011                  0  \n",
      "3   0.084115                  0  \n",
      "4   0.342228                  0  \n",
      "   DPTO_CCDGO  MPIO_CDPMP               DPTO_CNMBR               MPIO_CNMBR  \\\n",
      "0          11       11001  Bogotá Distrito Capital  Bogotá Distrito Capital   \n",
      "1           5        5001                Antioquia                 Medellín   \n",
      "2          76       76001          Valle Del Cauca                     Cali   \n",
      "3           8        8001                Atlántico             Barranquilla   \n",
      "4          13       13001                  Bolívar      Cartagena de Indias   \n",
      "\n",
      "   POB_2012  POB_2015  POB_2020  ATITUD          CLIMA      PESO  \n",
      "0   7571345   7878783   8380801    2640           Frío  0.162539  \n",
      "1   2393011   2464322   2569007    1405       Templado  0.051372  \n",
      "2   2294653   2369821   2496442     926    Cálido seco  0.049261  \n",
      "3   1200513   1218475   1239518      24  Cálido húmedo  0.025772  \n",
      "4    967103   1001755   1057445       1  Cálido húmedo  0.020761  \n"
     ]
    }
   ],
   "source": [
    "print(df1.head())\n",
    "print(df2.head())"
   ]
  },
  {
   "cell_type": "code",
   "execution_count": 9,
   "metadata": {},
   "outputs": [
    {
     "data": {
      "text/html": [
       "<div>\n",
       "<style scoped>\n",
       "    .dataframe tbody tr th:only-of-type {\n",
       "        vertical-align: middle;\n",
       "    }\n",
       "\n",
       "    .dataframe tbody tr th {\n",
       "        vertical-align: top;\n",
       "    }\n",
       "\n",
       "    .dataframe thead th {\n",
       "        text-align: right;\n",
       "    }\n",
       "</style>\n",
       "<table border=\"1\" class=\"dataframe\">\n",
       "  <thead>\n",
       "    <tr style=\"text-align: right;\">\n",
       "      <th></th>\n",
       "      <th>DPTO_CCDGO</th>\n",
       "      <th>MPIO_CDPMP</th>\n",
       "      <th>DPTO_CNMBR</th>\n",
       "      <th>MPIO_CNMBR</th>\n",
       "      <th>IMPORTANCIA</th>\n",
       "      <th>VALOR</th>\n",
       "      <th>PESO_MPAL</th>\n",
       "      <th>CONSUMOS_CANTIDAD</th>\n",
       "    </tr>\n",
       "  </thead>\n",
       "  <tbody>\n",
       "    <tr>\n",
       "      <th>0</th>\n",
       "      <td>5</td>\n",
       "      <td>5001</td>\n",
       "      <td>Antioquia</td>\n",
       "      <td>Medellín</td>\n",
       "      <td>1</td>\n",
       "      <td>54530.676210</td>\n",
       "      <td>45.505823</td>\n",
       "      <td>0</td>\n",
       "    </tr>\n",
       "    <tr>\n",
       "      <th>1</th>\n",
       "      <td>5</td>\n",
       "      <td>5002</td>\n",
       "      <td>Antioquia</td>\n",
       "      <td>Abejorral</td>\n",
       "      <td>5</td>\n",
       "      <td>207.327284</td>\n",
       "      <td>0.173015</td>\n",
       "      <td>0</td>\n",
       "    </tr>\n",
       "    <tr>\n",
       "      <th>2</th>\n",
       "      <td>5</td>\n",
       "      <td>5004</td>\n",
       "      <td>Antioquia</td>\n",
       "      <td>Abriaquí</td>\n",
       "      <td>7</td>\n",
       "      <td>21.582463</td>\n",
       "      <td>0.018011</td>\n",
       "      <td>0</td>\n",
       "    </tr>\n",
       "    <tr>\n",
       "      <th>3</th>\n",
       "      <td>5</td>\n",
       "      <td>5021</td>\n",
       "      <td>Antioquia</td>\n",
       "      <td>Alejandría</td>\n",
       "      <td>6</td>\n",
       "      <td>100.796517</td>\n",
       "      <td>0.084115</td>\n",
       "      <td>0</td>\n",
       "    </tr>\n",
       "    <tr>\n",
       "      <th>4</th>\n",
       "      <td>5</td>\n",
       "      <td>5030</td>\n",
       "      <td>Antioquia</td>\n",
       "      <td>Amagá</td>\n",
       "      <td>4</td>\n",
       "      <td>410.099686</td>\n",
       "      <td>0.342228</td>\n",
       "      <td>0</td>\n",
       "    </tr>\n",
       "  </tbody>\n",
       "</table>\n",
       "</div>"
      ],
      "text/plain": [
       "   DPTO_CCDGO  MPIO_CDPMP DPTO_CNMBR  MPIO_CNMBR  IMPORTANCIA         VALOR  \\\n",
       "0           5        5001  Antioquia    Medellín            1  54530.676210   \n",
       "1           5        5002  Antioquia   Abejorral            5    207.327284   \n",
       "2           5        5004  Antioquia    Abriaquí            7     21.582463   \n",
       "3           5        5021  Antioquia  Alejandría            6    100.796517   \n",
       "4           5        5030  Antioquia       Amagá            4    410.099686   \n",
       "\n",
       "   PESO_MPAL  CONSUMOS_CANTIDAD  \n",
       "0  45.505823                  0  \n",
       "1   0.173015                  0  \n",
       "2   0.018011                  0  \n",
       "3   0.084115                  0  \n",
       "4   0.342228                  0  "
      ]
     },
     "execution_count": 9,
     "metadata": {},
     "output_type": "execute_result"
    }
   ],
   "source": [
    "df1.head()"
   ]
  },
  {
   "cell_type": "code",
   "execution_count": 8,
   "metadata": {},
   "outputs": [
    {
     "data": {
      "text/html": [
       "<div>\n",
       "<style scoped>\n",
       "    .dataframe tbody tr th:only-of-type {\n",
       "        vertical-align: middle;\n",
       "    }\n",
       "\n",
       "    .dataframe tbody tr th {\n",
       "        vertical-align: top;\n",
       "    }\n",
       "\n",
       "    .dataframe thead th {\n",
       "        text-align: right;\n",
       "    }\n",
       "</style>\n",
       "<table border=\"1\" class=\"dataframe\">\n",
       "  <thead>\n",
       "    <tr style=\"text-align: right;\">\n",
       "      <th></th>\n",
       "      <th>DPTO_CCDGO</th>\n",
       "      <th>MPIO_CDPMP</th>\n",
       "      <th>DPTO_CNMBR</th>\n",
       "      <th>MPIO_CNMBR</th>\n",
       "      <th>POB_2012</th>\n",
       "      <th>POB_2015</th>\n",
       "      <th>POB_2020</th>\n",
       "      <th>ATITUD</th>\n",
       "      <th>CLIMA</th>\n",
       "      <th>PESO</th>\n",
       "    </tr>\n",
       "  </thead>\n",
       "  <tbody>\n",
       "    <tr>\n",
       "      <th>0</th>\n",
       "      <td>11</td>\n",
       "      <td>11001</td>\n",
       "      <td>Bogotá Distrito Capital</td>\n",
       "      <td>Bogotá Distrito Capital</td>\n",
       "      <td>7571345</td>\n",
       "      <td>7878783</td>\n",
       "      <td>8380801</td>\n",
       "      <td>2640</td>\n",
       "      <td>Frío</td>\n",
       "      <td>0.162539</td>\n",
       "    </tr>\n",
       "    <tr>\n",
       "      <th>1</th>\n",
       "      <td>5</td>\n",
       "      <td>5001</td>\n",
       "      <td>Antioquia</td>\n",
       "      <td>Medellín</td>\n",
       "      <td>2393011</td>\n",
       "      <td>2464322</td>\n",
       "      <td>2569007</td>\n",
       "      <td>1405</td>\n",
       "      <td>Templado</td>\n",
       "      <td>0.051372</td>\n",
       "    </tr>\n",
       "    <tr>\n",
       "      <th>2</th>\n",
       "      <td>76</td>\n",
       "      <td>76001</td>\n",
       "      <td>Valle Del Cauca</td>\n",
       "      <td>Cali</td>\n",
       "      <td>2294653</td>\n",
       "      <td>2369821</td>\n",
       "      <td>2496442</td>\n",
       "      <td>926</td>\n",
       "      <td>Cálido seco</td>\n",
       "      <td>0.049261</td>\n",
       "    </tr>\n",
       "    <tr>\n",
       "      <th>3</th>\n",
       "      <td>8</td>\n",
       "      <td>8001</td>\n",
       "      <td>Atlántico</td>\n",
       "      <td>Barranquilla</td>\n",
       "      <td>1200513</td>\n",
       "      <td>1218475</td>\n",
       "      <td>1239518</td>\n",
       "      <td>24</td>\n",
       "      <td>Cálido húmedo</td>\n",
       "      <td>0.025772</td>\n",
       "    </tr>\n",
       "    <tr>\n",
       "      <th>4</th>\n",
       "      <td>13</td>\n",
       "      <td>13001</td>\n",
       "      <td>Bolívar</td>\n",
       "      <td>Cartagena de Indias</td>\n",
       "      <td>967103</td>\n",
       "      <td>1001755</td>\n",
       "      <td>1057445</td>\n",
       "      <td>1</td>\n",
       "      <td>Cálido húmedo</td>\n",
       "      <td>0.020761</td>\n",
       "    </tr>\n",
       "  </tbody>\n",
       "</table>\n",
       "</div>"
      ],
      "text/plain": [
       "   DPTO_CCDGO  MPIO_CDPMP               DPTO_CNMBR               MPIO_CNMBR  \\\n",
       "0          11       11001  Bogotá Distrito Capital  Bogotá Distrito Capital   \n",
       "1           5        5001                Antioquia                 Medellín   \n",
       "2          76       76001          Valle Del Cauca                     Cali   \n",
       "3           8        8001                Atlántico             Barranquilla   \n",
       "4          13       13001                  Bolívar      Cartagena de Indias   \n",
       "\n",
       "   POB_2012  POB_2015  POB_2020  ATITUD          CLIMA      PESO  \n",
       "0   7571345   7878783   8380801    2640           Frío  0.162539  \n",
       "1   2393011   2464322   2569007    1405       Templado  0.051372  \n",
       "2   2294653   2369821   2496442     926    Cálido seco  0.049261  \n",
       "3   1200513   1218475   1239518      24  Cálido húmedo  0.025772  \n",
       "4    967103   1001755   1057445       1  Cálido húmedo  0.020761  "
      ]
     },
     "execution_count": 8,
     "metadata": {},
     "output_type": "execute_result"
    }
   ],
   "source": [
    "df2.head()"
   ]
  },
  {
   "cell_type": "code",
   "execution_count": 10,
   "metadata": {},
   "outputs": [],
   "source": [
    "df=df1.merge(df2,on='MPIO_CDPMP',how='inner')"
   ]
  },
  {
   "cell_type": "code",
   "execution_count": 13,
   "metadata": {},
   "outputs": [
    {
     "name": "stdout",
     "output_type": "stream",
     "text": [
      "<class 'pandas.core.frame.DataFrame'>\n",
      "Int64Index: 1122 entries, 0 to 1121\n",
      "Data columns (total 17 columns):\n",
      " #   Column             Non-Null Count  Dtype  \n",
      "---  ------             --------------  -----  \n",
      " 0   DPTO_CCDGO_x       1122 non-null   int64  \n",
      " 1   MPIO_CDPMP         1122 non-null   int64  \n",
      " 2   DPTO_CNMBR_x       1122 non-null   object \n",
      " 3   MPIO_CNMBR_x       1122 non-null   object \n",
      " 4   IMPORTANCIA        1122 non-null   int64  \n",
      " 5   VALOR              1122 non-null   float64\n",
      " 6   PESO_MPAL          1122 non-null   float64\n",
      " 7   CONSUMOS_CANTIDAD  1122 non-null   int64  \n",
      " 8   DPTO_CCDGO_y       1122 non-null   int64  \n",
      " 9   DPTO_CNMBR_y       1122 non-null   object \n",
      " 10  MPIO_CNMBR_y       1122 non-null   object \n",
      " 11  POB_2012           1122 non-null   int64  \n",
      " 12  POB_2015           1122 non-null   int64  \n",
      " 13  POB_2020           1122 non-null   int64  \n",
      " 14  ATITUD             1122 non-null   int64  \n",
      " 15  CLIMA              1122 non-null   object \n",
      " 16  PESO               1122 non-null   float64\n",
      "dtypes: float64(3), int64(9), object(5)\n",
      "memory usage: 157.8+ KB\n"
     ]
    }
   ],
   "source": [
    "df.info()"
   ]
  },
  {
   "cell_type": "code",
   "execution_count": 24,
   "metadata": {},
   "outputs": [
    {
     "data": {
      "text/plain": [
       "(array([  6.,  83., 276., 413., 237.,  67.,  22.,  14.,   3.,   1.]),\n",
       " array([ 6.10924758,  7.09246823,  8.07568888,  9.05890952, 10.04213017,\n",
       "        11.02535082, 12.00857146, 12.99179211, 13.97501276, 14.95823341,\n",
       "        15.94145405]),\n",
       " <a list of 10 Patch objects>)"
      ]
     },
     "execution_count": 24,
     "metadata": {},
     "output_type": "execute_result"
    },
    {
     "data": {
      "image/png": "[encoded data removed]",
      "text/plain": [
       "<Figure size 432x288 with 1 Axes>"
      ]
     },
     "metadata": {
      "needs_background": "light"
     },
     "output_type": "display_data"
    }
   ],
   "source": [
    "import matplotlib.pyplot as plt\n",
    "import numpy as np\n",
    "\n",
    "plt.hist(np.log(df['POB_2020']))"
   ]
  },
  {
   "cell_type": "code",
   "execution_count": 26,
   "metadata": {},
   "outputs": [
    {
     "data": {
      "text/plain": [
       "(array([  6.,   9.,  11.,  96., 183., 216.,  82.,  29.,   5.,   2.]),\n",
       " array([ 0.        ,  1.46776213,  2.93552426,  4.40328639,  5.87104852,\n",
       "         7.33881065,  8.80657278, 10.27433491, 11.74209705, 13.20985918,\n",
       "        14.67762131]),\n",
       " <a list of 10 Patch objects>)"
      ]
     },
     "execution_count": 26,
     "metadata": {},
     "output_type": "execute_result"
    },
    {
     "data": {
      "image/png": "[encoded data removed]",
      "text/plain": [
       "<Figure size 432x288 with 1 Axes>"
      ]
     },
     "metadata": {
      "needs_background": "light"
     },
     "output_type": "display_data"
    }
   ],
   "source": [
    "plt.hist(np.log(df[df.CONSUMOS_CANTIDAD > 0.0]['CONSUMOS_CANTIDAD']))"
   ]
  },
  {
   "cell_type": "code",
   "execution_count": 39,
   "metadata": {},
   "outputs": [],
   "source": [
    "dfA=df[df.CONSUMOS_CANTIDAD > 0.0]\n",
    "dfA.insert(17,'CONSUMO_PC',0)\n",
    "dfA.insert(18,'CLIMANUM',0)\n",
    "dfA['CONSUMO_PC']=dfA['CONSUMOS_CANTIDAD']/dfA['POB_2020']\n",
    "dfA['CLIMANUM']=dfA['CLIMA'].map({'Cálido húmedo' : 0, 'Cálido seco' : 1, 'Templado' : 2, 'Frío' : 3})"
   ]
  },
  {
   "cell_type": "code",
   "execution_count": 45,
   "metadata": {},
   "outputs": [
    {
     "data": {
      "text/plain": [
       "<matplotlib.collections.PathCollection at 0x7fbdd4e81a30>"
      ]
     },
     "execution_count": 45,
     "metadata": {},
     "output_type": "execute_result"
    },
    {
     "data": {
      "image/png": "[encoded data removed]",
      "text/plain": [
       "<Figure size 432x288 with 1 Axes>"
      ]
     },
     "metadata": {
      "needs_background": "light"
     },
     "output_type": "display_data"
    }
   ],
   "source": [
    "plt.scatter(np.log(dfA['CONSUMO_PC']),np.log(dfA['PESO']))"
   ]
  }
 ],
 "metadata": {
  "kernelspec": {
   "display_name": "Python 3",
   "language": "python",
   "name": "python3"
  },
  "language_info": {
   "codemirror_mode": {
    "name": "ipython",
    "version": 3
   },
   "file_extension": ".py",
   "mimetype": "text/x-python",
   "name": "python",
   "nbconvert_exporter": "python",
   "pygments_lexer": "ipython3",
   "version": "3.8.10"
  }
 },
 "nbformat": 4,
 "nbformat_minor": 4
}
